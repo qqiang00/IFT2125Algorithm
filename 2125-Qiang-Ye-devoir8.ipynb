{
 "cells": [
  {
   "cell_type": "markdown",
   "metadata": {},
   "source": [
    "## <center>Devoir 8 IFT2125-A-H19</center>\n",
    "\n",
    "**Student**: Qiang Ye (20139927) \n",
    "\n",
    "**Date**: 15 Mar 2019\n",
    "\n",
    "mailto: samuel.ducharme@umontreal.ca\n",
    "<hr>\n",
    "\n",
    "**Question**\n",
    "\n",
    "1. Trouvez la solution exacte de la récurrence Soit\n",
    "    \\begin{align*}\n",
    "    T(n) = \n",
    "    \\begin{cases}\n",
    "    & 0 & n = 0\\\\\n",
    "    & 1 & n = 1\\\\\n",
    "    &\\sqrt{T^2(n-1) + 2T^2(n-2) + n} & n > 1\\\\\n",
    "    \\end{cases}\n",
    "    \\end{align*}\n",
    "\n",
    "   \n",
    "   \n",
    "   \n",
    "2. Soit $T = \\{c_1, \\cdots, c_n \\}$ un ensemble de clés; vous pouvez supposer qu’elle sont données dans un tableau, également appelé $T$, de manière évidente: $T[i] = c_i$.\n",
    "\n",
    "   (1)  Donnez un algorithme qui trouve les deux plus grandes clés en moins de $\\frac{3}{2}n$ comparaisons.\n",
    "   \n",
    "   (2) Donnez un algorithme qui trouve la plus grande et la plus petite clé en moins de $\\frac{3}{2} n$ comparaisons.\n",
    "   \n",
    "   (3) Donnez un algorithme qui trouve les deux plus grandes clés en moins de $n + \\lg n$ comparaisons.\n",
    "\n",
    "   Dans chacun des cas, prouvez, ou au moins justifiez, vos dires.\n",
    "   \n",
    "\n",
    "<hr>"
   ]
  },
  {
   "cell_type": "markdown",
   "metadata": {},
   "source": [
    "**Answer 1**\n",
    "\n",
    "For $n>1$,\n",
    "\\begin{align*}\n",
    "    & T(n) = \\sqrt{T^2(n-1) + 2T^2(n-2) + n} \\\\\n",
    "    \\Longrightarrow & \n",
    "    T^2(n) = T^2(n-1) + 2T^2(n-2) + n \\\\\n",
    "\\end{align*}\n",
    "\n",
    "Let $S(n) = T^2(n)$, then:\n",
    "$$\n",
    "S(n) = S(n-1) + 2S(n-2) + n\\\\\n",
    "S(n) - S(n-1) -2S(n-2) = n\n",
    "$$\n",
    "\n",
    "The characteristic polynomial is:\n",
    "$$(x+1)(x-2)(x-1)^2$$\n",
    "\n",
    "Therefore, $S(n)$ can be written as:\n",
    "\\begin{align*}\n",
    "S(n) &= c_1(-1)^n + c_2 2^n + c_3 1^n + c_4 n 1^n\\\\\n",
    "&= c_1(-1)^n + c_2 2^n + c_3 + c_4 n\\\\\n",
    "\\end{align*}\n",
    "\n",
    "We know:\n",
    "\\begin{align*}\n",
    "S(0) &= T^2(0) = 0 \\\\\n",
    "S(1) &= T^2(1) = 1 \\\\\n",
    "S(2) &= S(1) + 2S(0) + 2 = 3 \\\\\n",
    "S(3) &= S(2) + 2S(1) + 3 = 8 \\\\\n",
    "\\end{align*}\n",
    "\n",
    "This gives us 4 linear equations for solving unknown constants:\n",
    "\\begin{align*}\n",
    "c_1 + c_2 + c_3 + 0 &= 0\\\\\n",
    "-c_1 + 2c_2 + c_3 + c_4 &= 1\\\\\n",
    "c_1 + 4c_2 + c_3 + 2c_4 &= 3\\\\\n",
    "-c_1 + 8c_2 + c_3 + 3c_4 &= 8\\\\\n",
    "\\end{align*}\n",
    "\n",
    "We obtain the solution: \n",
    "$$ c_1 = -\\frac{1}{12},\\ c_2 = \\frac{4}{3},\\ c_3 = -\\frac{5}{4},\\ c_4 = -\\frac{1}{2}$$\n",
    "\n",
    "and therefore\n",
    "$$S(n) = -\\frac{1}{12}(-1)^n + \\frac{4}{3} 2^n - \\frac{5}{4} - \\frac{1}{2} n$$\n",
    "\n",
    "and therefore\n",
    "$$T(n) = \\sqrt{-\\frac{1}{12}(-1)^n + \\frac{4}{3} 2^n - \\frac{5}{4} - \\frac{1}{2} n}$$"
   ]
  },
  {
   "cell_type": "markdown",
   "metadata": {},
   "source": [
    "**Answer2**\n",
    "\n",
    "We use DIVIDE-AND-CONQUER algorithms to solve the problems.\n",
    "\n",
    "First, we give two similar algorithms which find the largest or smallest key in a Table $T$ both respectively by $n-1$ comparisons:"
   ]
  },
  {
   "cell_type": "code",
   "execution_count": 1,
   "metadata": {},
   "outputs": [],
   "source": [
    "def find_largest(T):\n",
    "    largest = T[0] # set the largest be the first element\n",
    "    index = 0 # keep its index\n",
    "    for i in range(1, len(T)):\n",
    "        if largest < T[i]: # n-1 comparisons altogether\n",
    "            largest = T[i]\n",
    "            index = i\n",
    "    return largest, index\n",
    "    \n",
    "def find_smallest(T):\n",
    "    smallest = T[0] # set the smallest be the first element\n",
    "    index = 0\n",
    "    for i in range(1, len(T)): # from the second to last\n",
    "        if smallest > T[i]: # n-1 comparisons altogether\n",
    "            smallest = T[i]\n",
    "            index = i\n",
    "    return smallest, index"
   ]
  },
  {
   "cell_type": "markdown",
   "metadata": {},
   "source": [
    "**(1)** To find the largest two keys in a table $T$, we do the following steps:\n",
    "- step1: Group every two adjacent elements in table $T$. If the number of elements in $T$ is odd, the last element itself forms a group. So there are altogether $\\lceil \\frac{n}{2}\\rceil$ groups. \n",
    "- step2: For each group, select the larger element by one comparison; the group which has only one element doesn't need comparison, the only element will considered larger one.  So there are at most $\\lfloor \\frac{n}{2}\\rfloor$ comparisons. All larger elements form a new table($T'$) in which the largest 2 elements must be, whereas $T'$ only has $\\lceil \\frac{n}{2}\\rceil$ elements at most.\n",
    "- step3: Use the Algorithm(function) `find_largest(T)` to find the largest. We need $\\lceil \\frac{n}{2}\\rceil - 1$ comparisons. Once the largest is found, remove the largest from the $T'$ or just assign a value small enough to its position.\n",
    "- step4: Use again the same Algorithm(function) to find the largest element in $T'$ with the largest element removed. the output of the algorithm(function) this time will give us the second largest element in the original table $T$. In this step, we need $\\lceil \\frac{n}{2}\\rceil-2$ comparisons.\n",
    "\n",
    "In total, the number of comparison will be:\n",
    "$$\\lfloor \\frac{n}{2}\\rfloor + (\\lceil \\frac{n}{2}\\rceil - 1) + (\\lceil \\frac{n}{2}\\rceil-2) < \\frac{3}{2}n$$\n",
    "\n",
    "Here is an implementation by Python:"
   ]
  },
  {
   "cell_type": "code",
   "execution_count": 2,
   "metadata": {},
   "outputs": [],
   "source": [
    "def find_two_largest(T):\n",
    "    n = len(T)\n",
    "    possible_largests = [] # possible largest \n",
    "    for i in range(n//2):\n",
    "        if T[2*i] < T[i*2+1]:\n",
    "            possible_largests.append(T[i*2+1])\n",
    "        else:\n",
    "            possible_largests.append(T[i*2])\n",
    "\n",
    "    if n % 2 == 1: # need to compare the last element of T\n",
    "        possible_largests.append(T[-1]) # add last element of T\n",
    "    \n",
    "    largest, i = find_largest(possible_largests)\n",
    "    possible_largests[i] = float('-inf') # set to a possible minimal value\n",
    "    second_largest, _ = find_largest(possible_largests)\n",
    "    return largest, second_largest"
   ]
  },
  {
   "cell_type": "markdown",
   "metadata": {},
   "source": [
    "Here is an example:"
   ]
  },
  {
   "cell_type": "code",
   "execution_count": 3,
   "metadata": {},
   "outputs": [
    {
     "name": "stdout",
     "output_type": "stream",
     "text": [
      "T:  [14  8  2 17  7 20  4 12 18  3 13 15  5  9 11 10  6 16  0 19  1]\n",
      "largest: 20 , second largest: 19\n"
     ]
    }
   ],
   "source": [
    "import numpy as np\n",
    "T = np.arange(0, 21) # smallest is 0, largest is 19, second largest is 18\n",
    "np.random.shuffle(T) # shuffle T\n",
    "\n",
    "print(\"T: \", T)\n",
    "l, s = find_two_largest(T)\n",
    "print(\"largest:\", l, \", second largest:\", s)"
   ]
  },
  {
   "cell_type": "markdown",
   "metadata": {},
   "source": [
    "**(2)** To find the largest and the smallest keys in a table $T$, we use the similar algorithm:\n",
    "\n",
    "```python\n",
    "function find_largest_smallest(T):\n",
    "input: T a table with different elements(keys), where key index start \n",
    "       from 0 to n-1 where n is the length of T\n",
    "output: the largest and smallest element(key)\n",
    "\n",
    "n = length of T\n",
    "m = n // 2\n",
    "largers = []\n",
    "smallers = []\n",
    "for i from 0 to m-1: # every two adjacent elements\n",
    "    if T[2*i] < T[2*i+1]: # n/2 comparisons at most \n",
    "        largers.append(T[2*i+1])\n",
    "        smallers.append(T[2*i])\n",
    "    else:\n",
    "        largers.append(T[2*i])\n",
    "        smallers.append(T[2*i+1])\n",
    "\n",
    "if n is odd: # the last element, one more comparison,\n",
    "    if T[n-1] < smallers[0]:  couldn't be the largest\n",
    "        smallers.append(T[n-1])\n",
    "    else: # couldn't be the smallest\n",
    "        largers.append(T[n-1])\n",
    "        \n",
    "largest = find_largest(largers) # n/2 - 1 comparisons at most \n",
    "smallest = find_smallest(smallers) # n/2 - 1 comparisons at most \n",
    "return largest, smallest   \n",
    "\n",
    "```\n",
    "In total, the number of comparison will be at most:\n",
    "$$\\lfloor \\frac{n}{2}\\rfloor + (\\lceil \\frac{n}{2}\\rceil - 1) + (\\lceil \\frac{n}{2}\\rceil-1) + 1< \\frac{3}{2}n$$\n",
    "Here is an implementation by Python:"
   ]
  },
  {
   "cell_type": "code",
   "execution_count": 4,
   "metadata": {},
   "outputs": [],
   "source": [
    "def find_largest_smallest(T):\n",
    "    n = len(T)\n",
    "    m = n // 2\n",
    "    largers, smallers = [], []\n",
    "    for i in range(m):\n",
    "        if T[2*i] < T[2*i+1]:\n",
    "            largers.append(T[2*i+1])\n",
    "            smallers.append(T[2*i])\n",
    "        else:\n",
    "            largers.append(T[2*i])\n",
    "            smallers.append(T[2*i+1])\n",
    "    \n",
    "    if n%2 == 1:\n",
    "        if T[-1] < smallers[0]:\n",
    "            smallers.append(T[-1])\n",
    "        else:\n",
    "            largers.append(T[-1])\n",
    "    \n",
    "    largest, _ = find_largest(largers)\n",
    "    smallest, _ = find_smallest(smallers)\n",
    "    return largest, smallest"
   ]
  },
  {
   "cell_type": "markdown",
   "metadata": {},
   "source": [
    "An example:"
   ]
  },
  {
   "cell_type": "code",
   "execution_count": 5,
   "metadata": {},
   "outputs": [
    {
     "name": "stdout",
     "output_type": "stream",
     "text": [
      "[15  3 17  1 13 18 10 19  6 14  9  8 11 20  5  0  4  7 16  2 12]\n",
      "largest: 20 , smallest: 0\n"
     ]
    }
   ],
   "source": [
    "np.random.shuffle(T) # shuffle T\n",
    "print(T)\n",
    "largest, smallest = find_largest_smallest(T)\n",
    "print(\"largest:\", largest, \", smallest:\", smallest)"
   ]
  },
  {
   "cell_type": "markdown",
   "metadata": {},
   "source": [
    "**(3)** To find the two largest keys by using less than $n+\\lg n$ comparisons, we first give another algorithm to find the largest key in table $T$:\n",
    "\n",
    "```python\n",
    "def find_largest2(T, his):\n",
    "    \"\"\"find the largest key in a table\n",
    "    inputs: \n",
    "        T     a table with different keys, list\n",
    "        his   a dict keeps the comparing history where his[key] is a list\n",
    "              meaning 'key' once compared with all elments in that list\n",
    "    outputs:\n",
    "        the largest key in T\n",
    "    \"\"\"\n",
    "    n = len(T) # length of elements in current group\n",
    "    if n == 1: # only one lement in T, it is the largest\n",
    "        return T[0]\n",
    "    elif n == 2: # 2 elements in T, compare them, output the largest\n",
    "        his.setdefault(T[0], []).append(T[1]) # record compare history\n",
    "        his.setdefault(T[1], []).append(T[0]) # each record twice\n",
    "        return T[0] if T[0] > T[1] else T[1]  # output the larger one\n",
    "    else: # more than 2 elements in T\n",
    "        m = n//2 # divide T into two sub list equally\n",
    "        l1 = find_largest2(T[:m], his) # largest key in left half part T\n",
    "        l2 = find_largest2(T[m:], his) # largest key in right half part T\n",
    "        his.setdefault(l1, []).append(l2) # record compare history\n",
    "        his.setdefault(l2, []).append(l1) # twice for each\n",
    "        return l1 if l1 > l2 else l2 # output the larger one\n",
    "```\n",
    "Let $T(n)$ be the compared times needed to find the largest key in a table with the length $n$, according to the above algorithm:\n",
    "\\begin{align*}\n",
    "T(n) = \\begin{cases}\n",
    "0 & n = 0, 1\\\\\n",
    "1 & n = 2\\\\\n",
    "T(\\lfloor \\frac{n}{2} \\rfloor) + T(\\lceil\\frac{n}{2}\\rceil) + 1 & n > 2\\\\\n",
    "\\end{cases}\n",
    "\\end{align*}\n",
    "Solving this recurrence equation, we obtain that:\n",
    "$$T(n) = n - 1$$\n",
    "which means it also need $n-1$ comparisons to find the largest key in table $T$.\n",
    "\n",
    "By using this divide and conquer algorithm, every largest key will be selected out after at most $\\lg n$ times comparison with other keys, and the second largest key must be the largest one of these keys once compared with the largest key. \n",
    "\n",
    "By keep an history of all comparison, we have access to the keys compared with the largest key, and it only needs $\\lg n - 1$ comparisons to find the second largest key.\n",
    "\n",
    "Therefore, total comparison times will be no more than \n",
    "$$(n-1) + (\\lg n - 1) = n + \\lg n -2 < n+\\lg n $$ \n",
    "times.\n",
    "\n",
    "Here is the implementation and the examples by python:\n",
    "By counting the length of the `his` dict, we have an intuition of the comparison times during the procedure of finding the largest key from a given list.\n",
    "\n",
    "--------------"
   ]
  },
  {
   "cell_type": "code",
   "execution_count": 6,
   "metadata": {},
   "outputs": [],
   "source": [
    "def find_largest2(T, his):\n",
    "    \"\"\"find the largest key in a table\n",
    "    inputs: \n",
    "        T     a table with different keys, list\n",
    "        his   a dict keeps the comparing history where his[key] is a list\n",
    "              meaning 'key' once compared with all elments in that list\n",
    "    outputs:\n",
    "        the largest key in T\n",
    "    \"\"\"\n",
    "    def record_his(i, j): # helper function\n",
    "        \"\"\"recording comparison history\"\"\"\n",
    "        his.setdefault(i, []).append(j)\n",
    "        his.setdefault(j, []).append(i)\n",
    "        \n",
    "        \n",
    "    n = len(T) # length of elements in current group\n",
    "    if n == 1: # only one lement in T, it is the largest\n",
    "        return T[0]\n",
    "    elif n == 2: # 2 elements in T, compare them, output the largest\n",
    "        record_his(T[0], T[1])\n",
    "        return T[0] if T[0] > T[1] else T[1]  # output the larger one\n",
    "    else: # more than 2 elements in T\n",
    "        m = n//2 # divide T into two sub list equally\n",
    "        l1 = find_largest2(T[:m], his) # largest key in left half part T\n",
    "        l2 = find_largest2(T[m:], his) # largest key in right half part T\n",
    "        record_his(l1, l2)\n",
    "        return l1 if l1 > l2 else l2 # output the larger one\n",
    "    \n",
    "def compared_times(his):\n",
    "    n = 0\n",
    "    for num in his: \n",
    "        n += len(his[num]) # the value of a key in dict is a list\n",
    "    return n/2 # each comparison are recorded 2 times, so divided by 2\n",
    "\n",
    "def find_two_largest2(T):\n",
    "    his = {}\n",
    "    n = len(T)\n",
    "    largest = find_largest2(T, his)\n",
    "    print(\"compared {} times for largest key\".format(compared_times(his)))\n",
    "    print(\"these keys once compared with the largest key:\")\n",
    "    print(his[largest])\n",
    "    T_prime = [e for e in his[largest]]\n",
    "    his2 = {}\n",
    "    second_largest = find_largest2(T_prime, his2)\n",
    "    print(\"compared {} times for second largest key\".format(compared_times(his2)))\n",
    "    return largest, second_largest"
   ]
  },
  {
   "cell_type": "code",
   "execution_count": 7,
   "metadata": {},
   "outputs": [
    {
     "name": "stdout",
     "output_type": "stream",
     "text": [
      "[11 17  5  7  0  2 27 28 12  4 14 29 10 19 13 26 22  3  1  9 31  6 18 23\n",
      " 20 24 16 30 25 15 21  8]\n",
      "compared 31.0 times for largest key\n",
      "these keys once compared with the largest key:\n",
      "[6, 23, 22, 30, 29]\n",
      "compared 4.0 times for second largest key\n",
      "largest: 31 , second largest: 30\n"
     ]
    }
   ],
   "source": [
    "T = np.arange(0, 32)\n",
    "np.random.shuffle(T) # shuffle T\n",
    "print(T)\n",
    "largest, second_largest = find_two_largest2(T)\n",
    "print(\"largest:\", largest, \", second largest:\", second_largest)"
   ]
  },
  {
   "cell_type": "markdown",
   "metadata": {},
   "source": [
    "-----------------"
   ]
  },
  {
   "cell_type": "markdown",
   "metadata": {},
   "source": [
    "**Appendix**: Verification for Question1 "
   ]
  },
  {
   "cell_type": "code",
   "execution_count": 8,
   "metadata": {},
   "outputs": [
    {
     "name": "stdout",
     "output_type": "stream",
     "text": [
      "[[-0.08333333]\n",
      " [ 1.33333333]\n",
      " [-1.25      ]\n",
      " [-0.5       ]]\n"
     ]
    }
   ],
   "source": [
    "# find the values of c_1, c_2, c_3, c_4\n",
    "import numpy as np\n",
    "X = np.array([[ 1, 1, 1, 0 ],\n",
    "              [-1, 2, 1, 1 ],\n",
    "              [ 1, 4, 1, 2 ],\n",
    "              [-1, 8, 1, 3 ]], dtype = np.float64)\n",
    "\n",
    "b = np.array([0, 1, 3, 8], dtype = np.float64).reshape(-1, 1)\n",
    "c = np.dot(np.linalg.inv(X), b)\n",
    "print(c)"
   ]
  },
  {
   "cell_type": "code",
   "execution_count": 9,
   "metadata": {},
   "outputs": [
    {
     "name": "stdout",
     "output_type": "stream",
     "text": [
      "if no 'Wrong' printed, then all True\n"
     ]
    }
   ],
   "source": [
    "# verify T\n",
    "import math\n",
    "def T(n):\n",
    "    t = math.pow(-1, n) * (-1.0)/12.0\n",
    "    t += math.pow(2, n) * 4.0 / 3.0\n",
    "    t += -5.0/4.0\n",
    "    t += -n/2.0\n",
    "    return math.sqrt(t)\n",
    "\n",
    "def verify_T(n, epsilon = 1e-10):\n",
    "    \"\"\"check if the solution for T(n) is equal to the recurrence definiiton \n",
    "    of T\"\"\"\n",
    "    if n == 0:\n",
    "        return T(n) == 0\n",
    "    elif n == 1:\n",
    "        return T(n) == 1\n",
    "    else:\n",
    "        t_n_solution = T(n)\n",
    "        t_n_recurrence = math.sqrt(math.pow(T(n-1),2) + 2*math.pow(T(n-2),2) + n)\n",
    "        return abs(t_n_solution - t_n_recurrence) < epsilon\n",
    "\n",
    "for n in range(30): # verify n from 1 to 29\n",
    "    if verify_T(n) is not True:\n",
    "        print(\"Wrong\")\n",
    "        break\n",
    "\n",
    "print(\"if no 'Wrong' printed, then all True\")"
   ]
  }
 ],
 "metadata": {
  "kernelspec": {
   "display_name": "Python 3",
   "language": "python",
   "name": "python3"
  },
  "language_info": {
   "codemirror_mode": {
    "name": "ipython",
    "version": 3
   },
   "file_extension": ".py",
   "mimetype": "text/x-python",
   "name": "python",
   "nbconvert_exporter": "python",
   "pygments_lexer": "ipython3",
   "version": "3.7.1"
  },
  "latex_envs": {
   "LaTeX_envs_menu_present": true,
   "autoclose": false,
   "autocomplete": true,
   "bibliofile": "biblio.bib",
   "cite_by": "apalike",
   "current_citInitial": 1,
   "eqLabelWithNumbers": true,
   "eqNumInitial": 1,
   "hotkeys": {
    "equation": "Ctrl-E",
    "itemize": "Ctrl-I"
   },
   "labels_anchors": false,
   "latex_user_defs": false,
   "report_style_numbering": false,
   "user_envs_cfg": false
  }
 },
 "nbformat": 4,
 "nbformat_minor": 2
}
