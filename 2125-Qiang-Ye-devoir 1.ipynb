{
 "cells": [
  {
   "cell_type": "markdown",
   "metadata": {},
   "source": [
    "## <center>Devoir01 IFT2125-A-H19</center>\n",
    "\n",
    "**Student**: Qiang Ye (20139927) \n",
    "\n",
    "**Date**: 08 Jan 2019\n",
    "\n",
    "mailto: samuel.ducharme@umontreal.ca\n",
    "<hr>\n",
    "\n",
    "**Question**\n",
    "\n",
    "Prouvez que la multiplication à la russe fonctionne en utilisant le fait que chaque entier peut être écrit comme la somme des puissances de 2.\n",
    "\n",
    "Pour multiplier A par B, on fait un tableau T de taille n x 2 (n à détérminer dans le devoir). Dans la premiére rangée en met A et B dans les deux colonnes respectives, i.e. T(1,1)=A, T(1,2)=B. Quand on a T(i,1) et T(i,2), on obtient T(i+1,1)=[T(i,1)/2] et T(i+1,2)= 2T(i,2) (ici on revient a a vielle notation [x] de la partie entière du nombre x). On arrête quand T(n,1)=1. On obtient le résultat en faisant la somme des T(i,2) tels que T(i,1) est impair. \n",
    "\n",
    "<hr>\n",
    "\n",
    "**Answer**\n",
    "\n",
    "**First**, we rewrite the question in mathematical form:\n",
    "\n",
    "Given the fact that \"chaque entier peut être écrit comme la somme des puissances de 2\", we can express any integer $A$ by the formula:\n",
    "\\begin{equation}\n",
    "A = \\sum_{i=0}^{k} a_{i} 2^{i} \\tag{1}\n",
    "\\end{equation}\n",
    "\n",
    "As to the process of \"Russian multiplication\", for two integers $A$ and $B$, we build a table $T$ with height of $n$, where:\n",
    "$$\\begin{align}\n",
    "T(1,1) &= A \\tag{2} \\\\ \n",
    "T(1,2) &= B \\tag{3} \\\\\n",
    "T(i+1,1)&=[T(i,1)/2] \\tag{4} \\\\\n",
    "T(i+1,2)&= 2T(i,2) \\tag{5} \\\\\n",
    "T(n,1) &= 1 \\tag{6}\\\\\n",
    "\\end{align}\n",
    "$$\n",
    ",where $[x]$ is the integer part of number $x$.\n",
    "\n",
    "Given the Russian multiplication process ends with $T(n,1)=1$, we are implied that an integer A should be positive; otherwise, it may end with the value -1 or 0. However, the proposition we need to justify does not restrict $A$ always be positive. Therefore, we make a little modification to the end signal of the process:\n",
    "$$T(n,1) = 0, \\text{or} \\pm 1 \\tag{new 6}$$\n",
    "as a replacement of formula (6).\n",
    "\n",
    "It is a general situation where an integer $A$ can be positive, negative, or 0, which matches better the proposition. We need to prove the multiplication of $A$ and $B$ can be expressed by:\n",
    "$$\n",
    "\\begin{align}\n",
    "AB = \\sum_{i \\in S} M(i)T(i,2), \\  \\text{where}\\ S = \\{i | M(i) = \\pm 1,\\ 1\\le i \\le n\\}  \\tag{7} \\\\\n",
    "\\end{align}\n",
    "$$\n",
    ",where $$\n",
    "M(i) = T(i,1)\\ \\text{mod}\\ 2 = \n",
    "\\begin{cases}\n",
    "0  & \\text{if $T(i,1)$ is even} \\\\\n",
    "1 & \\text{if $T(i,1)$ is positive odd } \\\\\n",
    "-1 & \\text{if $T(i,1)$ is negative odd} \\\\\n",
    "\\end{cases}\n",
    "\\tag{8}\n",
    "$$\n",
    "\n",
    "**Now**, we give the justification:\n",
    "\n",
    "**Step1**: we constrain the $a_i$ in formula (1) with $a_i \\in \\{-1, 0, 1\\}$ where 0 $\\le i \\le k$. \n",
    "\n",
    "An integer set $\\mathbb{I} = \\mathbb{I^{\\ge 0}} \\cup \\mathbb{I^{-}}$\n",
    "\n",
    "For any integers from set $\\mathbb{I^{\\ge 0}}$:\n",
    "- each number can be transformed to a binary number,\n",
    "- every bit of the corresponding binary number is only either 0 or 1,\n",
    "- each bit of the binary number corresponds to $a_i$ in the formula (1), where the right most bit equals to $a_0$ and the left most, $a_k$.\n",
    "\n",
    "For any integers from set $\\mathbb{I^{-}}$, the situation is quite similar except:\n",
    "- we use the binary number of the **absolute value** of the negative integer, and every bit of the binary number corresponds to $-a_i$ in the formula (1).\n",
    "\n",
    "Based on the definition of $M$ by fomula (8), it is **clear** that,\n",
    "\n",
    "$$a_i = M(i+1) \\tag{9}$$\n",
    "\n",
    "For example, \n",
    "\n",
    "The binary number of `23` is `10111`, which can be expressed by:\n",
    "$$23 = 1\\times 2^0 + 1\\times 2^1 + 1\\times 2^2 + 0\\times 2^3 + 1\\times 2^4 = \\sum_{i=0}^{4}a_{i} 2^i$$\n",
    "where, $a_0 = 1,\\ a_1 = 1,\\ a_2 = 1,\\ a_3 = 0,\\ a_4 = 1$\n",
    "\n",
    "while number `-23` can also be expressed by the expression with $a_0 = -1,\\ a_1 = -1,\\ a_2 = -1,\\ a_3 = 0,\\ a_4 = -1$\n",
    "\n",
    "`0` can be expressed as $0\\times 2^0$.\n",
    "\n",
    "**Step2**: we determine the size $n$ of the table $T$:\n",
    "\n",
    "Based on formula (2) and (4), we get,\n",
    "$$(A-1)/2 \\le T(2,1) \\le A/2 $$\n",
    "and\n",
    "$$(T[i,1] - 1)/2 \\le T(i+1,1) \\le T(i,1)/2 $$\n",
    "therefore,\n",
    "$$A \\ge 2\\ T(2,1) \\ge 2^2\\ T(3,1) \\ge \\dots \\ge 2^{n-1}\\ T(n,1)$$\n",
    "$$A \\le 1+2\\ T(2,1)\\le 1+2(1+2\\ T(3,1)) = (2^2-1)+2^2\\ T(3,1) \\le \\dots \\le (2^{n-1}-1) + 2^{n-1}\\ T(n,1)$$\n",
    "Based on formula (2), we come to,\n",
    "$$\n",
    "\\begin{align}\n",
    " 2^{n-1} \\le A \\le  2^n -1\\\\\n",
    " log_{2}{(A + 1)}\\le n \\le 1+ log_{2}{A} \\\\\n",
    "\\end{align}\n",
    "$$\n",
    "Therefore,\n",
    "$$n = 1 + \\lfloor log_{2}{A} \\rfloor \\tag{10} $$\n",
    "\n",
    "As row index of table $T$ starts at 1 and ends with n, we can build the relationship between $n$ in formula (10) and $k$ occured in formula (1):\n",
    "$$n = k+1 \\tag{11}$$\n",
    "**Step3**: For two integers $A$ and $B$, their multiplication,\n",
    "\n",
    "\\begin{aligned}\n",
    "AB &= \\sum_{i=0}^{k} a_{i} 2^{i} \\times B \\\\\n",
    "&= (a_0 2^0 + a_1 2^1 + \\cdots + a_k 2^k ) \\times B \\\\\n",
    "&= a_0 \\times 2^0 B + a_1 \\times 2^1 B + \\cdots + a_k \\times 2^k B\\\\\n",
    "&= a_0 T(1,2) + a_1 T(2,2) + \\cdots + a_k T(k+1, 2)\\\\\n",
    "\\end{aligned}\n",
    "\n",
    "\n",
    "Based on formula (8) and (11), we arrive at:\n",
    "\n",
    "\\begin{aligned}\n",
    "AB &= M(1) T(1,2) + M(2) T(2,2) + \\cdots + M(n) T(n, 2)\\\\\n",
    "&= \\sum_{i \\in S} M(i)T(i,2), \\  \\text{where}\\ S = \\{i | M(i) = \\pm 1,\\ 1\\le i \\le n\\} \\\\\n",
    "\\end{aligned}\n",
    "\n",
    "**End of the justification**\n",
    "<hr>"
   ]
  },
  {
   "cell_type": "markdown",
   "metadata": {},
   "source": [
    "**Appendix1**: an example explaining the notation and process of Russian multiplication\n",
    "\n",
    "Let $A = 23$ and $B = 19$, the binary number of 23 is `10111`. \n",
    "Therefore, $k = 4$, $n = 5$, and $S = \\{1,2,3,5\\}$.\n",
    "\n",
    "The table of the process of Russian multiplication will be as follow:\n",
    "$$\n",
    "\\begin{array}{cccc}\n",
    "i & a_{i-1} &\\text{T(i,1)} & \\text{T(i,2)} & \\text{M(i)} \\\\\n",
    "\\hline\n",
    " 1 & 1 & 23 & 19 & 1\\\\\n",
    " 2 & 1 & 11 & 38 & 1\\\\\n",
    " 3 & 1 & 5 & 76 & 1\\\\\n",
    " 4 & 0 & 2 & 152 & 0\\\\\n",
    " 5 & 1 & 1 & 304 & 1\\\\\n",
    " \\hline\n",
    " \\end{array}\n",
    "$$\n",
    "And, \n",
    "$$AB = 23\\times 19 = 19 + 38 + 76 + 304 = 437$$\n",
    "\n",
    "\n"
   ]
  },
  {
   "cell_type": "code",
   "execution_count": 1,
   "metadata": {},
   "outputs": [],
   "source": [
    "import math\n",
    "A, B = 19, 23"
   ]
  },
  {
   "cell_type": "code",
   "execution_count": 2,
   "metadata": {},
   "outputs": [
    {
     "data": {
      "text/plain": [
       "'0b10011'"
      ]
     },
     "execution_count": 2,
     "metadata": {},
     "output_type": "execute_result"
    }
   ],
   "source": [
    "bin(A)"
   ]
  },
  {
   "cell_type": "code",
   "execution_count": 3,
   "metadata": {},
   "outputs": [
    {
     "name": "stdout",
     "output_type": "stream",
     "text": [
      "5\n"
     ]
    }
   ],
   "source": [
    "n = 1 + math.floor(math.log2(A))\n",
    "print(n)"
   ]
  },
  {
   "cell_type": "code",
   "execution_count": 4,
   "metadata": {},
   "outputs": [
    {
     "data": {
      "text/plain": [
       "True"
      ]
     },
     "execution_count": 4,
     "metadata": {},
     "output_type": "execute_result"
    }
   ],
   "source": [
    "19 + 38 + 76 + 304 == 23 * 19"
   ]
  },
  {
   "cell_type": "markdown",
   "metadata": {},
   "source": [
    "**Appendix2**: Another justification for step3 without using $A = \\sum_{i=0}^{k} a_{i} 2^{i}$\n",
    "\n",
    "<br>\n",
    "Based on formula 2,3,4,5,6, and 8, we can infer,\n",
    "\\begin{aligned}\n",
    "T(i,1)T(i,2) &= T(i,1) / 2 × 2T(i,2) \\\\\n",
    "&= \\bigl( [T(i,1)/2]×2 + M(i) \\bigr)/2 × 2T(i,2)\\\\\n",
    "&= \\bigl( T(i+1,1) + M(i)/2 \\bigr) × T(i+1,2)\\\\ \n",
    "&= T(i+1,1)T(i+1,2) + M(i)/2×T(i+1,2)\\\\\n",
    "&= T(i+1,1)T(i+1,2) + M(i)T(i,2)\\\\\n",
    "\\end{aligned}\n",
    "\n",
    "Therefore,\n",
    "\\begin{aligned}\n",
    "A×B &= T(1,1)T(1,2)\\\\\n",
    "&= T(2,1)T(2,2) + M(1)T(1,2)\\\\\n",
    "&=T(3,1)T(3,2) + M(2)T(2,2) + M(1)T(1,2)\\\\\n",
    "&\\cdots\\\\\n",
    "&=T(n,1)T(n,2) + M(n-1)T(n-1,2) + M(n-2)T(n-2,2) + \\cdots + M(1)T(1,2)\\\\\n",
    "&= M(n)T(n,2) + M(n-1)T(n-1,2) + \\cdots + M(1)T(1,2)\\\\\n",
    "&= \\Sigma_{i \\in S} M(i)T(i,2), \\  \\text{where}\\ S = \\{i | M(i) = \\pm1,\\ 1\\le i \\le n\\}\\\\\n",
    "\\end{aligned},"
   ]
  }
 ],
 "metadata": {
  "kernelspec": {
   "display_name": "Python 3",
   "language": "python",
   "name": "python3"
  },
  "language_info": {
   "codemirror_mode": {
    "name": "ipython",
    "version": 3
   },
   "file_extension": ".py",
   "mimetype": "text/x-python",
   "name": "python",
   "nbconvert_exporter": "python",
   "pygments_lexer": "ipython3",
   "version": "3.7.1"
  }
 },
 "nbformat": 4,
 "nbformat_minor": 2
}
