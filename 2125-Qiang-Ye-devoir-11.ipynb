{
 "cells": [
  {
   "cell_type": "markdown",
   "metadata": {},
   "source": [
    "## <center>Devoir 11 IFT2125-A-H19</center>\n",
    "\n",
    "**Student**: Qiang Ye (20139927) \n",
    "\n",
    "**Date**: 5 Avril 2019\n",
    "\n",
    "mailto: samuel.ducharme@umontreal.ca\n",
    "<hr>\n",
    "\n",
    "**Question**\n",
    "1. Soit G le graphe suivant donné par sa matrice d’adjacences pondérées.\n",
    "\\begin{bmatrix}\n",
    "0 & \\infty & 1 & 6 & 4\\\\\n",
    "1 & 0 & \\infty & \\infty & 5\\\\\n",
    "\\infty & \\infty & 0 & 1 & 5\\\\\n",
    "\\infty & 5 & \\infty & 0 & 1\\\\\n",
    "\\infty & 2 & \\infty & 3 & 0\\\\\n",
    "\\end{bmatrix}\n",
    "\n",
    "    Utilisez l’algorithme de Floyd pour remplir les tableaux en mettant dans la case $(i, j)$ une paire de valeur $(d, k)$, où d est la distance de $i$ à $j$ et $k$ est le dernier sommet qui fait\n",
    "diminuer cette distance quand l’algorithme permet de passer par lui. Montrez toutes les\n",
    "itérations - c’est pourquoi vous avez cinq tableaux.\n",
    "<hr>\n"
   ]
  },
  {
   "cell_type": "markdown",
   "metadata": {},
   "source": [
    "**Answer**\n",
    "\n",
    "Itération1\n",
    "\\begin{bmatrix}\n",
    "[0, 0]& [\\infty, 0]& [1, 0]& [6, 0]& [4, 0] \\\\\n",
    "[1, 0]& [0, 0]& [2, 1]& [7, 1]& [5, 0] \\\\\n",
    "[\\infty, 0]& [\\infty, 0]& [0, 0]& [1, 0]& [5, 0] \\\\\n",
    "[\\infty, 0]& [5, 0]& [\\infty, 0]& [0, 0]& [1, 0] \\\\\n",
    "[\\infty, 0]& [2, 0]& [\\infty, 0]& [3, 0]& [0, 0] \\\\\n",
    "\\end{bmatrix}\n",
    "\n",
    "\n",
    "Itération2\n",
    "\\begin{bmatrix}\n",
    "[0, 0]& [\\infty, 0]& [1, 0]& [6, 0]& [4, 0]& \\\\\n",
    "[1, 0]& [0, 0]& [2, 1]& [7, 1]& [5, 0]& \\\\\n",
    "[\\infty, 0]& [\\infty, 0]& [0, 0]& [1, 0]& [5, 0]& \\\\\n",
    "[6, 2]& [5, 0]& [7, 2]& [0, 0]& [1, 0]& \\\\\n",
    "[3, 2]& [2, 0]& [4, 2]& [3, 0]& [0, 0]& \\\\\n",
    "\\end{bmatrix}\n",
    "\n",
    "Itération3\n",
    "\\begin{bmatrix}\n",
    "[0, 0]& [\\infty, 0]& [1, 0]& [2, 3]& [4, 0]& \\\\\n",
    "[1, 0]& [0, 0]& [2, 1]& [3, 3]& [5, 0]& \\\\\n",
    "[\\infty, 0]& [\\infty, 0]& [0, 0]& [1, 0]& [5, 0]& \\\\\n",
    "[6, 2]& [5, 0]& [7, 2]& [0, 0]& [1, 0]& \\\\\n",
    "[3, 2]& [2, 0]& [4, 2]& [3, 0]& [0, 0]& \\\\\n",
    "\\end{bmatrix}\n",
    "\n",
    "Itération4\n",
    "\\begin{bmatrix}\n",
    "[0, 0]& [7, 4]& [1, 0]& [2, 3]& [3, 4]& \\\\\n",
    "[1, 0]& [0, 0]& [2, 1]& [3, 3]& [4, 4]& \\\\\n",
    "[7, 4]& [6, 4]& [0, 0]& [1, 0]& [2, 4]& \\\\\n",
    "[6, 2]& [5, 0]& [7, 2]& [0, 0]& [1, 0]& \\\\\n",
    "[3, 2]& [2, 0]& [4, 2]& [3, 0]& [0, 0]& \\\\\n",
    "\\end{bmatrix}\n",
    "\n",
    "Itération5\n",
    "\\begin{bmatrix}\n",
    "[0, 0]& [5, 5]& [1, 0]& [2, 3]& [3, 4]& \\\\\n",
    "[1, 0]& [0, 0]& [2, 1]& [3, 3]& [4, 4]& \\\\\n",
    "[5, 5]& [4, 5]& [0, 0]& [1, 0]& [2, 4]& \\\\\n",
    "[4, 5]& [3, 5]& [5, 5]& [0, 0]& [1, 0]& \\\\\n",
    "[3, 2]& [2, 0]& [4, 2]& [3, 0]& [0, 0]& \\\\\n",
    "\\end{bmatrix}"
   ]
  },
  {
   "cell_type": "markdown",
   "metadata": {},
   "source": [
    "2. Quel est le chemin le plus court du sommet 4 au sommet 3?\n",
    "\n",
    "    **Answer**\n",
    "    \n",
    "    According to the final matrix of previous question, we look at the element in $4_{th}$ row $3_{rd}$ column, which is the value paire of $(5,5)$, indicating the shortest distance is $5$, and the path goes through the $5_{th}$ node.\n",
    "\n",
    "    Again in this matrix, we search the element in $4_{th}$ row $5_{th}$ column and the element in $5_{th}$ row $3_{rd}$ column, which are $(1,0)$ and $(4,2)$, respectively. $k$ in first value pair is $0$, meaning that the shortest path between them is the edge that connect them directly. $k$ in second value pair is $2$, meaning that $2_{nd}$ node is a node within the shortest path, we repeat the search for shortest sub-path again and again until all value paire has the $k=0$. \n",
    "\n",
    "    Finally, we got shortest path from node4 to node5:\n",
    "    $$4 \\rightarrow 5  \\rightarrow   2  \\rightarrow  1 \\rightarrow  3$$\n",
    "    ,and the shortest distance is 5."
   ]
  },
  {
   "cell_type": "markdown",
   "metadata": {},
   "source": [
    "3. Remplisser le tableau suivant afin que l’on connaisse l’ordre de multiplications des matrice qui minimuse le nombre de multiplication. Dans la case $(i, j)$ mettez le nombre miniumum de multiplications $m_{i,j}$ nécessaire pour cacluler le produit des matrices $M_i M_{i+1}\\cdots M_j$ ainsi que l’endroit où on coupe pour obtenir ce minimum:$(m_{i,j}, k)$.\n",
    "\n",
    "   Les dimensions de matrices sont $[3,14,2,17,6,2]$\n",
    "    \n",
    "   **Answer**\n",
    "    \n",
    "   \\begin{bmatrix}\n",
    "       0,0 & 84,0  & 186,2 & 324,2 & 324,2\\\\\n",
    "           &  0,0  & 476,0 & 372,2 & 284,2\\\\\n",
    "           &       &   0,0 & 204,0 & 228,4\\\\\n",
    "           &       &       &  0,0  & 204,0\\\\\n",
    "           &       &       &     &  0,0\\\\\n",
    "   \\end{bmatrix}\n",
    "   **Note**:$k=0$ means there is no division for the calculation.\n",
    "   \n",
    "   Here is how I got the result:\n",
    "   \n",
    "   **Assume**: the result matrix is $m$; the dimension list is $d$; the indices for row and column start from 1, and the index for dimensions starts from 0. \n",
    "   \n",
    "   From the length of dimensions, we know it's the multiplication of 5 matrices: $M_1 M_2 M_3 M_4 M_5$.\n",
    "   \n",
    "   **step1**: for $1\\le i \\le5$, set $m[i,i] = 0$\n",
    "   \n",
    "   **step2**: set $s = 1$, let $m[i,i+s] = d[i-1]\\times d[i] \\times d[i+1]$, we got: \n",
    "    \\begin{align*}\n",
    "    m[1,2] &= d[0]\\times d[1] \\times d[2] =  3\\times 14 \\times 2 &= 84\\\\\n",
    "    m[2,3] &= d[1]\\times d[2] \\times d[3] = 14\\times 2 \\times 17 &= 476\\\\\n",
    "    m[3,4] &= d[2]\\times d[3] \\times d[4] = 2\\times 17 \\times 6 &= 204\\\\\n",
    "    m[4,5] &= d[3]\\times d[4] \\times d[5] = 17\\times 6 \\times 2 &= 204\\\\\n",
    "    \\end{align*}\n",
    "    \n",
    "    **step3**: for $s=2,3,4$, let \n",
    "    \\begin{align*}\n",
    "    m[i,i+s] = \\min_{i \\le k < i+s} \\left( m[i,k] + m[k+1,i+s] + d[i-1]\\times d[k] \\times d[i+s] \\right)\n",
    "    \\end{align*}\n",
    "\n",
    "    Therefore,\n",
    "    \\begin{align*}\n",
    "    m[1,3] &= \\min ( m[1,1] + m[2,3] + d[0]d[1]d[3] = 0 + 476 + 714 = 1190 \\ (k=1)\\\\\n",
    "           &\\quad\\quad\\quad m[1,2] + m[3,3] + d[0]d[2]d[3] = 84 + 0 + 102  = 186 \\ (k=2))\\\\\n",
    "           &= 186\\ (k=2) \\\\\n",
    "    m[2,4] &= \\min ( m[2,2] + m[3,4] + d[1]d[2]d[4] = 0 + 204 + 168 = 372 \\ (k=2)\\\\\n",
    "             &\\quad\\quad\\quad  m[2,3] + m[4,4] + d[1]d[3]d[4] = 476 + \\cdots > 372 \\ (k=3))\\\\\n",
    "           &= 372\\ (k=2)\\\\ \n",
    "    m[3,5] &= \\min ( m[3,3] + m[4,5] + d[2]d[3]d[5] = 0 + 204 + 68 = 272 \\ (k=3)\\\\\n",
    "             &\\quad\\quad\\quad  m[3,4] + m[5,5] + d[2]d[4]d[5] = 204 + 0 +24 =228 \\ (k=4))\\\\\n",
    "           &= 228\\ (k=4)\\\\       \n",
    "    m[1,4] &= \\min ( m[1,1] + m[2,4] + d[0]d[1]d[4] = 0 + 372 + 252 = 624 \\ (k=1)\\\\\n",
    "             &\\quad\\quad\\quad  m[1,2] + m[3,4] + d[0]d[2]d[4] = 84 + 204 +36 =324 \\ (k=2)\\\\\n",
    "             &\\quad\\quad\\quad  m[1,3] + m[4,4] + d[0]d[3]d[4] = 186 + 0 +306 =492 \\ (k=3))\\\\\n",
    "           &= 324\\ (k=2)\\\\       \n",
    "    m[2,5] &= \\min ( m[2,2] + m[3,5] + d[1]d[2]d[5] = 0 + 228 + 56 = 284 \\ (k=2)\\\\\n",
    "             &\\quad\\quad\\quad  m[2,3] + m[4,5] + d[1]d[3]d[5] = 476 +\\cdots >284 \\ (k=3)\\\\\n",
    "             &\\quad\\quad\\quad  m[2,4] + m[5,5] + d[1]d[4]d[5] = 372 +\\cdots >284 \\ (k=4))\\\\\n",
    "           &= 284\\ (k=2)\\\\\n",
    "    m[1,5] &= \\min ( m[1,1] + m[2,5] + d[0]d[1]d[5] = 0 + 284 + 84 = 368 \\ (k=1)\\\\\n",
    "             &\\quad\\quad\\quad  m[1,2] + m[3,5] + d[0]d[2]d[5] = 84 +228 +12 =324 \\ (k=2)\\\\\n",
    "             &\\quad\\quad\\quad  m[1,3] + m[4,5] + d[0]d[3]d[5] = 186 +204 + 102 =492 \\ (k=3)\\\\\n",
    "             &\\quad\\quad\\quad  m[1,4] + m[5,5] + d[0]d[4]d[5] = 324 + 0 + 36 = 360 \\ (k=4))\\\\\n",
    "           &= 324\\ (k=2)\\\\\n",
    "    \\end{align*}"
   ]
  },
  {
   "cell_type": "markdown",
   "metadata": {},
   "source": [
    "4. Quel est l’ordre optimal des multiplications et quel est le nombre de multiplications minimum?\n",
    "\n",
    "   **Answer**\n",
    "   From result of previous question, the following division of the matrix multiplication is optimal:\n",
    "   \n",
    "   \\begin{align*}\n",
    "   M_1 M_2 M_3 M_4 M_5 &= (M_1 M_2)(M_3 M_4 M_5) & (k=2 \\text{ for } m[1,5])\\\\\n",
    "                       &= (M_1 M_2)(M_3 M_4)(M_5) & (k=4 \\text{ for } m[3,5])\\\\\n",
    "   \\end{align*}\n",
    "   \n",
    "   And, the minimal number of multiplication is $m[1,5] = 324$"
   ]
  },
  {
   "cell_type": "markdown",
   "metadata": {},
   "source": [
    "<hr>"
   ]
  },
  {
   "cell_type": "code",
   "execution_count": 1,
   "metadata": {},
   "outputs": [],
   "source": [
    "# codes for question 1-2\n",
    "import numpy as np\n",
    "\n",
    "def print_d_p(D, p):\n",
    "    n = D.shape[0]\n",
    "    for i in range(n):\n",
    "        for j in range(n):\n",
    "            d = \"\\infty\" if D[i,j] == float(\"inf\") else int(D[i,j])\n",
    "            path = int(p[i,j])\n",
    "            print(\"[{}, {}]\".format(d, path),end = \"& \")\n",
    "        print(\"\\\\\\\\\")\n",
    "    \n",
    "def Floyd(L):\n",
    "    #D = copy.copy(L)\n",
    "    D = np.array(L)\n",
    "    p = np.zeros_like(D) # chemin\n",
    "    n = D.shape[0]  # number of nodes\n",
    "    for k in range(n):\n",
    "        for i in range(n):\n",
    "            for j in range(n):\n",
    "                if D[i,k]+D[k,j]< D[i,j]:\n",
    "                    p[i,j] = k+1\n",
    "                D[i,j] = min(D[i,j], D[i,k] + D[k,j])\n",
    "                \n",
    "        print(\"iter{}\".format(k+1))\n",
    "        print_d_p(D, p)\n",
    "    return D, p"
   ]
  },
  {
   "cell_type": "code",
   "execution_count": 2,
   "metadata": {},
   "outputs": [],
   "source": [
    "# matrix of the exercise\n",
    "L = np.array([\n",
    "     [0, float(\"inf\"), 1, 6, 4],\n",
    "     [1, 0, float(\"inf\"), float(\"inf\"), 5],\n",
    "     [float(\"inf\"), float(\"inf\"), 0, 1, 5],\n",
    "     [float(\"inf\"), 5, float(\"inf\"), 0, 1],\n",
    "     [float(\"inf\"), 2, float(\"inf\"), 3, 0]\n",
    "    ])\n",
    "\n",
    "# matrix from the book\n",
    "L2 = np.array([ \n",
    "    [0, 5, float('inf'), float('inf')],\n",
    "    [50, 0, 15, 5],\n",
    "    [30, float('inf'), 0, 15],\n",
    "    [15, float('inf'), 5, 0]\n",
    "])"
   ]
  },
  {
   "cell_type": "code",
   "execution_count": 3,
   "metadata": {
    "scrolled": false
   },
   "outputs": [
    {
     "name": "stdout",
     "output_type": "stream",
     "text": [
      "iter1\n",
      "[0, 0]& [\\infty, 0]& [1, 0]& [6, 0]& [4, 0]& \\\\\n",
      "[1, 0]& [0, 0]& [2, 1]& [7, 1]& [5, 0]& \\\\\n",
      "[\\infty, 0]& [\\infty, 0]& [0, 0]& [1, 0]& [5, 0]& \\\\\n",
      "[\\infty, 0]& [5, 0]& [\\infty, 0]& [0, 0]& [1, 0]& \\\\\n",
      "[\\infty, 0]& [2, 0]& [\\infty, 0]& [3, 0]& [0, 0]& \\\\\n",
      "iter2\n",
      "[0, 0]& [\\infty, 0]& [1, 0]& [6, 0]& [4, 0]& \\\\\n",
      "[1, 0]& [0, 0]& [2, 1]& [7, 1]& [5, 0]& \\\\\n",
      "[\\infty, 0]& [\\infty, 0]& [0, 0]& [1, 0]& [5, 0]& \\\\\n",
      "[6, 2]& [5, 0]& [7, 2]& [0, 0]& [1, 0]& \\\\\n",
      "[3, 2]& [2, 0]& [4, 2]& [3, 0]& [0, 0]& \\\\\n",
      "iter3\n",
      "[0, 0]& [\\infty, 0]& [1, 0]& [2, 3]& [4, 0]& \\\\\n",
      "[1, 0]& [0, 0]& [2, 1]& [3, 3]& [5, 0]& \\\\\n",
      "[\\infty, 0]& [\\infty, 0]& [0, 0]& [1, 0]& [5, 0]& \\\\\n",
      "[6, 2]& [5, 0]& [7, 2]& [0, 0]& [1, 0]& \\\\\n",
      "[3, 2]& [2, 0]& [4, 2]& [3, 0]& [0, 0]& \\\\\n",
      "iter4\n",
      "[0, 0]& [7, 4]& [1, 0]& [2, 3]& [3, 4]& \\\\\n",
      "[1, 0]& [0, 0]& [2, 1]& [3, 3]& [4, 4]& \\\\\n",
      "[7, 4]& [6, 4]& [0, 0]& [1, 0]& [2, 4]& \\\\\n",
      "[6, 2]& [5, 0]& [7, 2]& [0, 0]& [1, 0]& \\\\\n",
      "[3, 2]& [2, 0]& [4, 2]& [3, 0]& [0, 0]& \\\\\n",
      "iter5\n",
      "[0, 0]& [5, 5]& [1, 0]& [2, 3]& [3, 4]& \\\\\n",
      "[1, 0]& [0, 0]& [2, 1]& [3, 3]& [4, 4]& \\\\\n",
      "[5, 5]& [4, 5]& [0, 0]& [1, 0]& [2, 4]& \\\\\n",
      "[4, 5]& [3, 5]& [5, 5]& [0, 0]& [1, 0]& \\\\\n",
      "[3, 2]& [2, 0]& [4, 2]& [3, 0]& [0, 0]& \\\\\n"
     ]
    }
   ],
   "source": [
    "d, p = Floyd(L)"
   ]
  },
  {
   "cell_type": "markdown",
   "metadata": {},
   "source": [
    "<hr>"
   ]
  },
  {
   "cell_type": "code",
   "execution_count": 3,
   "metadata": {},
   "outputs": [
    {
     "name": "stdout",
     "output_type": "stream",
     "text": [
      "[[  0.  84.   0.   0.   0.]\n",
      " [  0.   0. 476.   0.   0.]\n",
      " [  0.   0.   0. 204.   0.]\n",
      " [  0.   0.   0.   0. 204.]\n",
      " [  0.   0.   0.   0.   0.]]\n"
     ]
    }
   ],
   "source": [
    "import numpy as np\n",
    "# codes for question 3-4\n",
    "d = [3, 14, 2, 17, 6, 2] # dimensions\n",
    "#d = [5, 6, 7, 45, 3, 25]\n",
    "n = len(d) - 1 # number of matrices\n",
    "\n",
    "m = np.zeros((n,n))\n",
    "for i in range(n):\n",
    "    m[i,i] = 0\n",
    "    s = 1\n",
    "    if i+s< n:\n",
    "        m[i,i+s] = d[i]*d[i+1]*d[i+2]\n",
    "\n",
    "print(m)"
   ]
  },
  {
   "cell_type": "code",
   "execution_count": 4,
   "metadata": {
    "scrolled": true
   },
   "outputs": [
    {
     "name": "stdout",
     "output_type": "stream",
     "text": [
      "[[  0.  84. 186.   0.   0.]\n",
      " [  0.   0. 476. 372.   0.]\n",
      " [  0.   0.   0. 204. 228.]\n",
      " [  0.   0.   0.   0. 204.]\n",
      " [  0.   0.   0.   0.   0.]]\n",
      "\n",
      "[[  0.  84. 186. 324.   0.]\n",
      " [  0.   0. 476. 372. 284.]\n",
      " [  0.   0.   0. 204. 228.]\n",
      " [  0.   0.   0.   0. 204.]\n",
      " [  0.   0.   0.   0.   0.]]\n",
      "\n",
      "[[  0.  84. 186. 324. 324.]\n",
      " [  0.   0. 476. 372. 284.]\n",
      " [  0.   0.   0. 204. 228.]\n",
      " [  0.   0.   0.   0. 204.]\n",
      " [  0.   0.   0.   0.   0.]]\n",
      "\n"
     ]
    }
   ],
   "source": [
    "for s in range(2, n):\n",
    "    for i in range(n):\n",
    "        if i + s < n:\n",
    "            temps = []\n",
    "            for k in range(i, i+s):\n",
    "                cals = m[i,k] + m[k+1, i+s] + d[i]*d[k+1]*d[i+s+1]\n",
    "                temps.append(cals)\n",
    "            m[i,i+s] = min(temps)\n",
    "    print(m)\n",
    "    print()"
   ]
  },
  {
   "cell_type": "code",
   "execution_count": null,
   "metadata": {},
   "outputs": [],
   "source": []
  },
  {
   "cell_type": "code",
   "execution_count": null,
   "metadata": {},
   "outputs": [],
   "source": []
  }
 ],
 "metadata": {
  "kernelspec": {
   "display_name": "Python 3",
   "language": "python",
   "name": "python3"
  },
  "language_info": {
   "codemirror_mode": {
    "name": "ipython",
    "version": 3
   },
   "file_extension": ".py",
   "mimetype": "text/x-python",
   "name": "python",
   "nbconvert_exporter": "python",
   "pygments_lexer": "ipython3",
   "version": "3.7.1"
  }
 },
 "nbformat": 4,
 "nbformat_minor": 2
}
