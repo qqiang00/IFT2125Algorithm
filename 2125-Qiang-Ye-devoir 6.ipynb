{
 "cells": [
  {
   "cell_type": "markdown",
   "metadata": {},
   "source": [
    "## <center>Devoir 6 IFT2125-A-H19</center>\n",
    "\n",
    "**Student**: Qiang Ye (20139927) \n",
    "\n",
    "**Date**: 14 Fév 2019\n",
    "\n",
    "mailto: samuel.ducharme@umontreal.ca\n",
    "<hr>\n",
    "\n",
    "**Question**\n",
    "\n",
    "Supposons que pendant l’exécution de l’algorithme de Dijkstra le sommet $v_i$ vient d’être ajouté à $F_i$ et la $i$-ème itération est terminée. Est-ce que un chemin **le plus court** dans $F_i$ de $s$ vers un sommet dans $V \\setminus F_i$ peut passer d’abord par $v_i$ et ensuite par un autre sommet de $F_i$? Expliquez votre réponse.\n",
    "\n",
    "<hr>\n"
   ]
  },
  {
   "cell_type": "markdown",
   "metadata": {},
   "source": [
    "**Answer** Non, c'est pas possible.\n",
    "\n",
    "**Preuve**\n",
    "\n",
    "Dans le cas: $i$-ème  itération est terminée, et le sommet $v_i$ vient d’être ajouté à $F_i$.\n",
    "\n",
    "Supposons un sommet $g\\in V\\setminus F_i$, un autre somme $u \\in F_i\\setminus\\{v_i\\}$, on garde les chemins possibles de $s$ à $g$.\n",
    "\n",
    "Par l'algorithme de Dijkstra, puisque $u$ est ajouté à $F_i$ plus tôt que $v_i$, c'est trivial que:\n",
    "\n",
    "$$d(u) \\le d(v_i) \\tag{1}$$ \n",
    "\n",
    "Disons qu'il existe des chemins de $v_i$ à $u$ dang $F_i$, tant que $v_i$ n'es pas $u$, on a:\n",
    "\n",
    "$$min\\{C[v_i, u]\\} > 0 \\tag{2}$$\n",
    "\n",
    "Si le chemine de $s$ vers $g$ comprenant $C[v_i, u]$ est le plus court, on peut dire:\n",
    "\n",
    "$$\\tilde d(g) = d(v_i) + min\\{c(C[v_i, u])\\} + min\\{c(C[u, g])\\}\\tag{3}$$\n",
    "\n",
    "Comme $d(u) \\le d(v_i)$, on peut trouver un autre chemin $C[s,g]$ qui utilise le chemin le plus court de $s$ à $u$ et ne contient pas le chemin $C[v_i, u]$, tel que:\n",
    "\n",
    "$$c(C[s, g]) = d(u) + min\\{c(C[u, g])\\}\\tag{4}$$\n",
    "\n",
    "Basé sur les formulaires (1), (2), (3), (4), on a:\n",
    "\n",
    "$$c(C[s, g]) < \\tilde d(g) \\tag{5}$$\n",
    "\n",
    ",ce qui signifie un chimin contenant $C[v_i, u]$ n'est pas un chemin **le plus court** de $s$ à $g\\in V\\setminus F_i$, où $s$ est le source, $v_i, u \\in F_i$, et $v_i$ est le sommet $v_i$ vient d’être ajouté à $F_i$.\n"
   ]
  }
 ],
 "metadata": {
  "kernelspec": {
   "display_name": "Python 3",
   "language": "python",
   "name": "python3"
  },
  "language_info": {
   "codemirror_mode": {
    "name": "ipython",
    "version": 3
   },
   "file_extension": ".py",
   "mimetype": "text/x-python",
   "name": "python",
   "nbconvert_exporter": "python",
   "pygments_lexer": "ipython3",
   "version": "3.7.1"
  }
 },
 "nbformat": 4,
 "nbformat_minor": 2
}
